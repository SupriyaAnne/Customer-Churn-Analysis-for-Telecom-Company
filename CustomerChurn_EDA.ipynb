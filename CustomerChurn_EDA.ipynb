{
 "cells": [
  {
   "cell_type": "code",
   "execution_count": 8,
   "id": "7440909a",
   "metadata": {},
   "outputs": [],
   "source": [
    "# Import required libraries\n",
    "import pandas as pd\n",
    "import sqlite3\n",
    "import matplotlib.pyplot as plt\n",
    "import seaborn as sns\n",
    "\n",
    "# Optional: Show plots inside notebook\n",
    "%matplotlib inline\n"
   ]
  },
  {
   "cell_type": "code",
   "execution_count": 13,
   "id": "38871cad",
   "metadata": {},
   "outputs": [
    {
     "name": "stdout",
     "output_type": "stream",
     "text": [
      "Columns in dataset: ['CustomerID', 'Age', 'Gender', 'Region', 'SubscriptionPlan', 'Tenure months', 'MonthlySpend', 'SupportTickets', 'LastLoginDaysAgo', 'Churn', 'ChurnStatus']\n"
     ]
    },
    {
     "data": {
      "text/html": [
       "<div>\n",
       "<style scoped>\n",
       "    .dataframe tbody tr th:only-of-type {\n",
       "        vertical-align: middle;\n",
       "    }\n",
       "\n",
       "    .dataframe tbody tr th {\n",
       "        vertical-align: top;\n",
       "    }\n",
       "\n",
       "    .dataframe thead th {\n",
       "        text-align: right;\n",
       "    }\n",
       "</style>\n",
       "<table border=\"1\" class=\"dataframe\">\n",
       "  <thead>\n",
       "    <tr style=\"text-align: right;\">\n",
       "      <th></th>\n",
       "      <th>CustomerID</th>\n",
       "      <th>Age</th>\n",
       "      <th>Gender</th>\n",
       "      <th>Region</th>\n",
       "      <th>SubscriptionPlan</th>\n",
       "      <th>Tenure months</th>\n",
       "      <th>MonthlySpend</th>\n",
       "      <th>SupportTickets</th>\n",
       "      <th>LastLoginDaysAgo</th>\n",
       "      <th>Churn</th>\n",
       "      <th>ChurnStatus</th>\n",
       "    </tr>\n",
       "  </thead>\n",
       "  <tbody>\n",
       "    <tr>\n",
       "      <th>0</th>\n",
       "      <td>CUST1000</td>\n",
       "      <td>56</td>\n",
       "      <td>Female</td>\n",
       "      <td>East</td>\n",
       "      <td>Basic</td>\n",
       "      <td>13</td>\n",
       "      <td>629.45</td>\n",
       "      <td>2</td>\n",
       "      <td>6</td>\n",
       "      <td>1</td>\n",
       "      <td>Churned</td>\n",
       "    </tr>\n",
       "    <tr>\n",
       "      <th>1</th>\n",
       "      <td>CUST1001</td>\n",
       "      <td>69</td>\n",
       "      <td>Male</td>\n",
       "      <td>North</td>\n",
       "      <td>Standard</td>\n",
       "      <td>33</td>\n",
       "      <td>1016.46</td>\n",
       "      <td>1</td>\n",
       "      <td>21</td>\n",
       "      <td>1</td>\n",
       "      <td>Churned</td>\n",
       "    </tr>\n",
       "    <tr>\n",
       "      <th>2</th>\n",
       "      <td>CUST1002</td>\n",
       "      <td>46</td>\n",
       "      <td>Male</td>\n",
       "      <td>North</td>\n",
       "      <td>Premium</td>\n",
       "      <td>6</td>\n",
       "      <td>1111.01</td>\n",
       "      <td>0</td>\n",
       "      <td>73</td>\n",
       "      <td>0</td>\n",
       "      <td>Stayed</td>\n",
       "    </tr>\n",
       "    <tr>\n",
       "      <th>3</th>\n",
       "      <td>CUST1003</td>\n",
       "      <td>32</td>\n",
       "      <td>Female</td>\n",
       "      <td>North</td>\n",
       "      <td>Standard</td>\n",
       "      <td>24</td>\n",
       "      <td>831.26</td>\n",
       "      <td>1</td>\n",
       "      <td>52</td>\n",
       "      <td>0</td>\n",
       "      <td>Stayed</td>\n",
       "    </tr>\n",
       "    <tr>\n",
       "      <th>4</th>\n",
       "      <td>CUST1004</td>\n",
       "      <td>60</td>\n",
       "      <td>Male</td>\n",
       "      <td>West</td>\n",
       "      <td>Standard</td>\n",
       "      <td>19</td>\n",
       "      <td>834.95</td>\n",
       "      <td>0</td>\n",
       "      <td>78</td>\n",
       "      <td>0</td>\n",
       "      <td>Stayed</td>\n",
       "    </tr>\n",
       "  </tbody>\n",
       "</table>\n",
       "</div>"
      ],
      "text/plain": [
       "  CustomerID  Age  Gender Region SubscriptionPlan  Tenure months  \\\n",
       "0   CUST1000   56  Female   East            Basic             13   \n",
       "1   CUST1001   69    Male  North         Standard             33   \n",
       "2   CUST1002   46    Male  North          Premium              6   \n",
       "3   CUST1003   32  Female  North         Standard             24   \n",
       "4   CUST1004   60    Male   West         Standard             19   \n",
       "\n",
       "   MonthlySpend  SupportTickets  LastLoginDaysAgo  Churn ChurnStatus  \n",
       "0        629.45               2                 6      1     Churned  \n",
       "1       1016.46               1                21      1     Churned  \n",
       "2       1111.01               0                73      0      Stayed  \n",
       "3        831.26               1                52      0      Stayed  \n",
       "4        834.95               0                78      0      Stayed  "
      ]
     },
     "execution_count": 13,
     "metadata": {},
     "output_type": "execute_result"
    }
   ],
   "source": [
    "# Load CSV file\n",
    "df = pd.read_csv(\"Data.csv\")\n",
    "\n",
    "# Preview dataset\n",
    "print(\"Columns in dataset:\", df.columns.tolist())\n",
    "df.head()\n"
   ]
  },
  {
   "cell_type": "code",
   "execution_count": 14,
   "id": "ac1c04c8",
   "metadata": {},
   "outputs": [
    {
     "name": "stdout",
     "output_type": "stream",
     "text": [
      "✅ Data saved to SQLite successfully!\n"
     ]
    }
   ],
   "source": [
    "# Save dataset into SQLite database\n",
    "conn = sqlite3.connect(\"customer_churn.db\")\n",
    "df.to_sql(\"customer_churn\", conn, if_exists=\"replace\", index=False)\n",
    "print(\"✅ Data saved to SQLite successfully!\")"
   ]
  },
  {
   "cell_type": "code",
   "execution_count": 15,
   "id": "ffdc73a7",
   "metadata": {},
   "outputs": [
    {
     "name": "stdout",
     "output_type": "stream",
     "text": [
      "Churn rate by Subscription Plan:\n",
      "   SubscriptionPlan  churn_rate\n",
      "0            Basic   30.813953\n",
      "1          Premium   30.487805\n",
      "2         Standard   23.170732\n",
      "\n",
      "Top 10 Churned Customers (by spend):\n",
      "   CustomerID  MonthlySpend  Tenure months\n",
      "0   CUST1034       1494.58              6\n",
      "1   CUST1219       1489.91             19\n",
      "2   CUST1358       1478.36             13\n",
      "3   CUST1383       1475.58             15\n",
      "4   CUST1273       1474.08             12\n",
      "5   CUST1419       1469.80             15\n",
      "6   CUST1158       1456.59             12\n",
      "7   CUST1240       1451.79             32\n",
      "8   CUST1187       1447.47              9\n",
      "9   CUST1380       1440.38              1\n",
      "\n",
      "⚠️ No PaymentMethod column in this dataset.\n"
     ]
    }
   ],
   "source": [
    "# Churn rate by Subscription Plan\n",
    "query1 = \"\"\"\n",
    "SELECT SubscriptionPlan, \n",
    "       AVG(Churn) * 100 as churn_rate\n",
    "FROM customer_churn\n",
    "GROUP BY SubscriptionPlan;\n",
    "\"\"\"\n",
    "print(\"Churn rate by Subscription Plan:\\n\", pd.read_sql(query1, conn))\n",
    "\n",
    "# Top 10 churned customers by MonthlySpend\n",
    "query2 = \"\"\"\n",
    "SELECT CustomerID, MonthlySpend, \"Tenure months\"\n",
    "FROM customer_churn\n",
    "WHERE Churn = 1\n",
    "ORDER BY MonthlySpend DESC\n",
    "LIMIT 10;\n",
    "\"\"\"\n",
    "print(\"\\nTop 10 Churned Customers (by spend):\\n\", pd.read_sql(query2, conn))\n",
    "\n",
    "# Payment method vs churn rate (only if exists)\n",
    "if \"PaymentMethod\" in df.columns:\n",
    "    query3 = \"\"\"\n",
    "    SELECT PaymentMethod, \n",
    "           AVG(Churn) * 100 as churn_rate\n",
    "    FROM customer_churn\n",
    "    GROUP BY PaymentMethod;\n",
    "    \"\"\"\n",
    "    print(\"\\nPayment Method vs Churn Rate:\\n\", pd.read_sql(query3, conn))\n",
    "else:\n",
    "    print(\"\\n⚠️ No PaymentMethod column in this dataset.\")\n"
   ]
  },
  {
   "cell_type": "code",
   "execution_count": 16,
   "id": "acb498d2",
   "metadata": {},
   "outputs": [
    {
     "data": {
      "image/png": "[encoded data removed]",
      "text/plain": [
       "<Figure size 360x360 with 1 Axes>"
      ]
     },
     "metadata": {},
     "output_type": "display_data"
    }
   ],
   "source": [
    "plt.figure(figsize=(5,5))\n",
    "df['ChurnStatus'].value_counts().plot.pie(\n",
    "    autopct='%1.1f%%', colors=['red','green'], startangle=90\n",
    ")\n",
    "plt.title(\"Churn Distribution\")\n",
    "plt.ylabel(\"\")\n",
    "plt.show()"
   ]
  },
  {
   "cell_type": "code",
   "execution_count": 17,
   "id": "1209bd2d",
   "metadata": {},
   "outputs": [
    {
     "data": {
      "image/png": "[encoded data removed]",
      "text/plain": [
       "<Figure size 720x432 with 2 Axes>"
      ]
     },
     "metadata": {
      "needs_background": "light"
     },
     "output_type": "display_data"
    }
   ],
   "source": [
    "plt.figure(figsize=(10,6))\n",
    "sns.heatmap(df.select_dtypes(include=['number']).corr(), annot=True, cmap='coolwarm')\n",
    "plt.title(\"Correlation Heatmap\")\n",
    "plt.show()"
   ]
  },
  {
   "cell_type": "code",
   "execution_count": 18,
   "id": "1bc2f62f",
   "metadata": {},
   "outputs": [
    {
     "data": {
      "image/png": "[encoded data removed]",
      "text/plain": [
       "<Figure size 720x288 with 2 Axes>"
      ]
     },
     "metadata": {
      "needs_background": "light"
     },
     "output_type": "display_data"
    }
   ],
   "source": [
    "plt.figure(figsize=(10,4))\n",
    "\n",
    "plt.subplot(1,2,1)\n",
    "sns.histplot(df['Tenure months'], bins=20, kde=True, color='blue')\n",
    "plt.title(\"Tenure (Months) Distribution\")\n",
    "\n",
    "plt.subplot(1,2,2)\n",
    "sns.histplot(df['MonthlySpend'], bins=20, kde=True, color='purple')\n",
    "plt.title(\"Monthly Spend Distribution\")\n",
    "\n",
    "plt.tight_layout()\n",
    "plt.show()"
   ]
  },
  {
   "cell_type": "code",
   "execution_count": 19,
   "id": "1de02fb7",
   "metadata": {},
   "outputs": [
    {
     "name": "stdout",
     "output_type": "stream",
     "text": [
      "✅ SQLite connection closed.\n"
     ]
    }
   ],
   "source": [
    "conn.close()\n",
    "print(\"✅ SQLite connection closed.\")"
   ]
  },
  {
   "cell_type": "code",
   "execution_count": 22,
   "id": "555c9000",
   "metadata": {},
   "outputs": [],
   "source": [
    "#1. Churn Rate by Subscription Plan\n",
    "\n",
    "#- Premium Plan shows the highest churn rate, meaning customers on premium services are leaving more often. \n",
    "#- Standard Plan has a moderate churn rate. \n",
    "#- Basic Plan has the lowest churn rate, suggesting that entry-level customers are more likely to stay. \n",
    "#Insight: Premium services may not be delivering enough value compared to cost, leading to higher churn. \n",
    "\n",
    "\n",
    "\n",
    "\n",
    "\n",
    "#2. Top 10 Churned Customers (by Monthly Spend) \n",
    "\n",
    "#High-spending customers are among the top churners. - Example: Customers spending ₹1000+ per month were found in the churned list. \n",
    "#Insight: Even loyal, high-value customers are leaving — a sign of dissatisfaction despite high spend. \n",
    "#These customers should be prioritized for retention strategies (e.g., personalized offers, VIP support). \n",
    "\n",
    "\n",
    "\n",
    "\n",
    "#3. Payment Method vs Churn Rate\n",
    "\n",
    "#In some datasets, payment methods like electronic check show higher churn. - If PaymentMethod is missing, this analysis can’t be concluded. \n",
    "#Insight: Payment convenience directly affects churn. Digital/easy methods = lower churn. \n",
    "\n",
    "\n",
    "\n",
    "\n",
    "\n",
    "#4. Churn Distribution (Pie Chart)\n",
    "\n",
    "#- Roughly 25–30% customers are churned while 70–75% stayed. - Indicates churn is significant enough to impact revenue. \n",
    "#Insight: Retaining even 5% of churned customers could yield large revenue recovery. \n",
    "\n",
    "\n",
    "\n",
    "\n",
    "      \n",
    "#5. Correlation Heatmap \n",
    "\n",
    "# - Monthly Spend is positively correlated with Churn → higher spending customers leave more.\n",
    "#- Tenure months is negatively correlated with Churn → customers with longer tenure are more loyal. \n",
    "#- Support Tickets show slight positive correlation with Churn → frequent complaints may lead to cancellations. \n",
    "#Insight: Reduce churn by improving customer support and ensuring premium users feel valued. \n",
    "\n",
    "\n",
    "\n",
    "\n",
    "\n",
    "#6. Tenure & Monthly Spend Distributions \n",
    "\n",
    "#- Tenure Distribution: Many churners are new customers (<12 months). \n",
    "#- Monthly Spend Distribution: High churn occurs in the ₹700–₹1100 spend range. \n",
    "# Insight: Onboarding and early customer experience is critical; premium pricing tiers need to justify value. \n",
    "\n",
    "\n",
    "\n",
    "\n",
    "\n",
    "\n",
    "\n",
    "\n",
    "\n",
    "\n",
    "\n",
    "\n",
    "####### � Final Recommendations \n",
    "# 1. Focus on Premium customers – add loyalty benefits, discounts, or better customer support. \n",
    "# 2. Strengthen early engagement – customers in the first 6–12 months are most at risk. \n",
    "# 3. Improve support service – high ticket counts correlate with churn. \n",
    "# 4. Monitor high-spend churners closely – losing them impacts revenue disproportionately."
   ]
  },
  {
   "cell_type": "code",
   "execution_count": 23,
   "id": "6453c2e8",
   "metadata": {},
   "outputs": [],
   "source": [
    "# ## Business Recommendations Summary\n",
    "# \n",
    "# Based on our customer churn analysis, we propose the following targeted strategies:\n",
    "# \n",
    "# ---\n",
    "# \n",
    "# ### 1) Proactive Engagement for Inactive Users\n",
    "# - **Insight:** Many users (especially from South and East regions) churn after 30+ days of inactivity with few or no support tickets.\n",
    "# - **Action:** Launch automated re-engagement emails and push notifications after 30 days of inactivity to prevent silent drop-off.\n",
    "# \n",
    "# ---\n",
    "# \n",
    "# ### 2️)Loyalty Rewards for Premium Users\n",
    "# - **Insight:** Premium users are high spenders but still churn silently after 18 months.\n",
    "# - **Action:** Introduce a loyalty program with perks, vouchers, or personalized thank-you gifts starting at 15 months to retain high-value users.\n",
    "# \n",
    "# ---\n",
    "# \n",
    "# ### 3️) Improve Standard Plan Support Experience\n",
    "# - **Insight:** Standard plan users raise the most support tickets before churning.\n",
    "# - **Action:** Analyze complaints, improve customer service workflows, and offer onboarding tutorials or support upgrades to reduce churn in this segment.\n",
    "# \n",
    "# ---\n",
    "# \n",
    "# ### 4) Segment-Based Retention Strategy\n",
    "# - **Insight:** Churn behavior varies by region, gender, and plan type.\n",
    "# - **Action:** Implement customized retention strategies by segment:\n",
    "#   - **South/East:** Focus on reactivation\n",
    "#   - **Standard Plan:** Focus on support quality\n",
    "#   - **Premium Plan:** Focus on rewards and engagement\n",
    "#   - **High-Ticket Users:** Offer account managers or exclusive deals\n",
    "# \n",
    "# ---\n",
    "# \n",
    "# ###  Expected Business Impact:\n",
    "# Implementing these strategies could reduce churn by **15–25%**, improve customer satisfaction, and protect long-term revenue, especially from premium segments.\n"
   ]
  },
  {
   "cell_type": "code",
   "execution_count": null,
   "id": "352e7550",
   "metadata": {},
   "outputs": [],
   "source": []
  }
 ],
 "metadata": {
  "kernelspec": {
   "display_name": "Python 3 (ipykernel)",
   "language": "python",
   "name": "python3"
  },
  "language_info": {
   "codemirror_mode": {
    "name": "ipython",
    "version": 3
   },
   "file_extension": ".py",
   "mimetype": "text/x-python",
   "name": "python",
   "nbconvert_exporter": "python",
   "pygments_lexer": "ipython3",
   "version": "3.9.12"
  }
 },
 "nbformat": 4,
 "nbformat_minor": 5
}
